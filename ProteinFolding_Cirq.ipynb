{
 "cells": [
  {
   "cell_type": "markdown",
   "id": "52ccdbf2",
   "metadata": {},
   "source": [
    "<table width=\"100%\"><tr><td style=\"color:#bbbbbb;background-color:#ffffff;font-size:11px;font-style:italic;text-align:right;\"> macros </td></tr></table>\n",
    "$ \\newcommand{\\bra}[1]{\\langle #1|} $\n",
    "$ \\newcommand{\\ket}[1]{|#1\\rangle} $\n"
   ]
  },
  {
   "cell_type": "markdown",
   "id": "cf5816f5",
   "metadata": {},
   "source": [
    "# Protein Folding Problem\n",
    "\n",
    "We can solve the protein folding problem based on some steps:\n",
    " \n",
    "1. defining a peptide / the interaction method / penalty terms\n",
    "2. converting the problem into qubits\n",
    "3. setting the inputs and solving the problem by VQE algorithm"
   ]
  },
  {
   "cell_type": "markdown",
   "id": "421b1601",
   "metadata": {},
   "source": [
    "## Shivalee:\n",
    "defining a peptide:<br>\n",
    "Here to simplify the problem, we only use the main chain, so it is a peptide.<br>\n",
    "We consider a peptide as a string of characters that each character shows an amino acid.<br>"
   ]
  },
  {
   "cell_type": "markdown",
   "id": "5c3427c7",
   "metadata": {},
   "source": [
    "<table>\n",
    "  <tr>\n",
    "      <th>#</th>\n",
    "    <th>Amini acid</th>\n",
    "    <th>3-letter symbols</th>\n",
    "    <th>1-letter symbols</th>\n",
    "  </tr>\n",
    "  <tr>\n",
    "      <td>1</td>\n",
    "    <td>Alanine</td>\n",
    "    <td>Ala</td>\n",
    "    <td>A</td>\n",
    "  </tr>\n",
    "    <tr>\n",
    "        <td>2</td>\n",
    "    <td>Arginine</td>\n",
    "    <td>Arg</td>\n",
    "    <td>R</td>\n",
    "  </tr>\n",
    "    <tr>\n",
    "        <td>3</td>\n",
    "    <td>Asparagine</td>\n",
    "    <td>Asn</td>\n",
    "    <td>N</td>\n",
    "  </tr>\n",
    "    <tr>\n",
    "        <td>4</td>\n",
    "    <td>Aspartate</td>\n",
    "    <td>Asp</td>\n",
    "    <td>D</td>\n",
    "  </tr>\n",
    "    <tr>\n",
    "        <td>5</td>\n",
    "    <td>Cysteine</td>\n",
    "    <td>Cys</td>\n",
    "    <td>C</td>\n",
    "  </tr>\n",
    "    <tr>\n",
    "        <td>6</td>\n",
    "    <td>Glutamine</td>\n",
    "    <td>Gln</td>\n",
    "    <td>Q</td>\n",
    "  </tr>\n",
    "    <tr>\n",
    "        <td>7</td>\n",
    "    <td>Glutamate</td>\n",
    "    <td>Glu</td>\n",
    "    <td>E</td>\n",
    "  </tr>\n",
    "    <tr>\n",
    "        <td>8</td>\n",
    "    <td>Glycine</td>\n",
    "    <td>Gly</td>\n",
    "    <td>G</td>\n",
    "  </tr>\n",
    "    <tr>\n",
    "        <td>9</td>\n",
    "    <td>Histidine</td>\n",
    "    <td>His</td>\n",
    "    <td>H</td>\n",
    "  </tr>\n",
    "    <tr>\n",
    "        <td>10</td>\n",
    "    <td>Isoleucine</td>\n",
    "    <td>Ile</td>\n",
    "    <td>I</td>\n",
    "  </tr>\n",
    "    <tr>\n",
    "        <td>11</td>\n",
    "    <td>Leucine</td>\n",
    "    <td>Leu</td>\n",
    "    <td>L</td>\n",
    "  </tr>\n",
    "    <tr>\n",
    "        <td>12</td>\n",
    "    <td>Lysine</td>\n",
    "    <td>Lys</td>\n",
    "    <td>K</td>\n",
    "  </tr>\n",
    "    <tr>\n",
    "        <td>13</td>\n",
    "    <td>Methionine</td>\n",
    "    <td>Met</td>\n",
    "    <td>M</td>\n",
    "  </tr>\n",
    "    <tr>\n",
    "        <td>14</td>\n",
    "    <td>Phenylalanine</td>\n",
    "    <td>Phe</td>\n",
    "    <td>F</td>\n",
    "  </tr>\n",
    "    <tr>\n",
    "        <td>15</td>\n",
    "    <td>Proline</td>\n",
    "    <td>Pro</td>\n",
    "    <td>P</td>\n",
    "  </tr>\n",
    "    <tr>\n",
    "        <td>16</td>\n",
    "    <td>Serine</td>\n",
    "    <td>Ser</td>\n",
    "    <td>S</td>\n",
    "  </tr>\n",
    "    <tr>\n",
    "        <td>17</td>\n",
    "    <td>Threonine</td>\n",
    "    <td>Thr</td>\n",
    "    <td>T</td>\n",
    "  </tr>\n",
    "    <tr>\n",
    "        <td>18</td>\n",
    "    <td>Tryptophan</td>\n",
    "    <td>Trp</td>\n",
    "    <td>W</td>\n",
    "  </tr>\n",
    "    <tr>\n",
    "        <td>19</td>\n",
    "    <td>Tyrosine</td>\n",
    "    <td>Tyr</td>\n",
    "    <td>Y</td>\n",
    "  </tr>\n",
    "    <tr>\n",
    "        <td>20</td>\n",
    "    <td>Valine</td>\n",
    "    <td>Val</td>\n",
    "    <td>V</td>\n",
    "  </tr>\n",
    "</table>"
   ]
  },
  {
   "cell_type": "code",
   "execution_count": null,
   "id": "296fd0f6",
   "metadata": {},
   "outputs": [],
   "source": [
    "# Defining a peptide\n",
    "# Getting an input / an string of characters\n",
    "# Valid characters are: [A, C, D, E, F, G, H, I, K, L, M, N, P, Q, R, S, T, V, W, Y]\n",
    "\n",
    "\n",
    "\n"
   ]
  },
  {
   "cell_type": "code",
   "execution_count": null,
   "id": "88ef0c75",
   "metadata": {},
   "outputs": [],
   "source": [
    "# The interaction method\n",
    "# Miyazawa-Jernigan Interaction prepared a table for interaction between amino acids\n",
    "# The table is in their paper\n",
    "\n",
    "\n"
   ]
  },
  {
   "cell_type": "code",
   "execution_count": null,
   "id": "887ce741",
   "metadata": {},
   "outputs": [],
   "source": [
    "# Panalty terms\n",
    "\n",
    "\n",
    "\n",
    "\n"
   ]
  },
  {
   "cell_type": "markdown",
   "id": "9955265e",
   "metadata": {},
   "source": [
    "## Buvan:\n",
    "\n",
    "Preparing The Hamiltonian of the system\n",
    "Converting the problem into the qubits "
   ]
  },
  {
   "cell_type": "markdown",
   "id": "fb0cd069",
   "metadata": {},
   "source": [
    "Our goal is to determine the minimum energy conformation of a special protein. There are some kinds of lattices (cubic, planar, etc), here we will use <b>tetrahedral lattice</b>. For encoding the problem in a quantum circuit, we will use two kinds of qubits:\n",
    "<ol>\n",
    "  <li>$q_{cf}$: Configuration qubits that are used for configurations and the relative position of the amino acids</li>\n",
    "  <li>$q_{in}$: Interaction qubits that encode interactions between the amino acids</li>\n",
    "</ol>\n",
    "Therefore, the Hamiltonian of the system is:<br>\n",
    "$$ H = H_{gc}(q_{cf}) + H_{ch}(q_{cf}) + H_{in}(q_{cf},q_{in})$$\n",
    "where:\n",
    "<ul>\n",
    "  <li>$H_{gc}$ is the geometrical constraint term</li>\n",
    "  <li>$H_{ch}$ is the chirality constraint</li>\n",
    "  <li>$H_{in}$ is the interaction energy terms of the system.</li>\n",
    "</ul>"
   ]
  },
  {
   "cell_type": "code",
   "execution_count": null,
   "id": "b944d5b5",
   "metadata": {},
   "outputs": [],
   "source": [
    "# code"
   ]
  },
  {
   "cell_type": "markdown",
   "id": "7b442aa8",
   "metadata": {},
   "source": [
    "## Malihe:\n",
    "\n",
    "setting the inputs and solving the problem by VQE algorithm"
   ]
  },
  {
   "cell_type": "markdown",
   "id": "8310d656",
   "metadata": {},
   "source": [
    "VQE algorithm can solve this equation:\n",
    "\n",
    "$H\\ket{\\psi(\\overrightarrow{\\theta})} = E\\ket{\\psi(\\overrightarrow{\\theta})}$\n",
    "<br>\n",
    "where:\n",
    "<ul>\n",
    "    <li>$E$ is energy / a number</li>\n",
    "    <li>$E_{0}$ is the lowest energy / eigenvalue of H / a number</li>\n",
    "    <li>$ \\psi(\\overrightarrow{\\theta})$ is the eigenstate of H / a vector</li>\n",
    "    <li>H is the Hamiltonian / an operator / a matrix</li>\n",
    "    <li>$\\overrightarrow{\\theta}$ is a vector of independent parameters and $\\overrightarrow{\\theta}=$ {($\\theta_{1},...,\\theta_{n} $)}$^{T}$.</li>    \n",
    "</ul>\n",
    "\n",
    "The lowest answer for this equation is the ground state ($E_{0}$).\n",
    "\n",
    "$ E_{0} \\leq \\bra{\\psi(\\overrightarrow{\\theta})}H\\ket{\\psi(\\overrightarrow{\\theta})} $ <br>"
   ]
  },
  {
   "cell_type": "code",
   "execution_count": null,
   "id": "29744ebc",
   "metadata": {},
   "outputs": [],
   "source": [
    "# VQE in Cirq"
   ]
  },
  {
   "cell_type": "markdown",
   "id": "00f8d0c9",
   "metadata": {},
   "source": [
    "## Edgars: \n",
    "\n",
    "analyze the result and compare them with real result (experimental result)"
   ]
  },
  {
   "cell_type": "code",
   "execution_count": null,
   "id": "d7eecf6e",
   "metadata": {},
   "outputs": [],
   "source": []
  }
 ],
 "metadata": {
  "kernelspec": {
   "display_name": "Python 3 (ipykernel)",
   "language": "python",
   "name": "python3"
  },
  "language_info": {
   "codemirror_mode": {
    "name": "ipython",
    "version": 3
   },
   "file_extension": ".py",
   "mimetype": "text/x-python",
   "name": "python",
   "nbconvert_exporter": "python",
   "pygments_lexer": "ipython3",
   "version": "3.8.11"
  }
 },
 "nbformat": 4,
 "nbformat_minor": 5
}
