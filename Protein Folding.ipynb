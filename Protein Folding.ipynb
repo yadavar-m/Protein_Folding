{
 "cells": [
  {
   "cell_type": "markdown",
   "id": "5b8f52c3",
   "metadata": {},
   "source": [
    "## Protein Folding\n",
    "\n",
    "Proteins are consist of amino acids, they have a main chain and also can have some sub chains <br>\n",
    "Each letter shows an amino acid in one-letter-code coding of a protein <br>\n",
    "You can find the one-letter-code of each amino acid in https://en.wikipedia.org/wiki/Amino_acid"
   ]
  },
  {
   "cell_type": "markdown",
   "id": "2dd58d09",
   "metadata": {},
   "source": [
    "<table>\n",
    "  <tr>\n",
    "    <th>Amini acid</th>\n",
    "    <th>3-letter symbols</th>\n",
    "    <th>1-letter symbols</th>\n",
    "  </tr>\n",
    "  <tr>\n",
    "    <td>Alanine</td>\n",
    "    <td>Ala</td>\n",
    "    <td>A</td>\n",
    "  </tr>\n",
    "    <tr>\n",
    "    <td>Proline</td>\n",
    "    <td>Pro</td>\n",
    "    <td>P</td>\n",
    "  </tr>\n",
    "  <tr>\n",
    "    <td>Arginine</td>\n",
    "    <td>Arg</td>\n",
    "    <td>R</td>\n",
    "  </tr>\n",
    "    <tr>\n",
    "    <td>Leucine</td>\n",
    "    <td>Leu</td>\n",
    "    <td>L</td>\n",
    "  </tr>\n",
    "    <tr>\n",
    "    <td>Phenylalanine</td>\n",
    "    <td>Phe</td>\n",
    "    <td>F</td>\n",
    "  </tr>\n",
    "    <tr>\n",
    "    <td>Tyrosine</td>\n",
    "    <td>Tyr</td>\n",
    "    <td>Y</td>\n",
    "  </tr>\n",
    "</table>"
   ]
  },
  {
   "cell_type": "code",
   "execution_count": 1,
   "id": "880fd249",
   "metadata": {},
   "outputs": [],
   "source": [
    "main_chain = \"APRLRFY\" #Alanine,Proline,Arginine,Leucine,Arginine,Phenylalanine,Tyrosine / 7 amino acids\n",
    "side_chains = [\"\"] * 7 # seven empty side chains = no side chains = ['', '', '', '', '', '', '']"
   ]
  },
  {
   "cell_type": "code",
   "execution_count": 2,
   "id": "67594dda",
   "metadata": {},
   "outputs": [
    {
     "name": "stdout",
     "output_type": "stream",
     "text": [
      "['', '', '', '', '', '', '']\n"
     ]
    }
   ],
   "source": [
    "print(side_chains)"
   ]
  },
  {
   "cell_type": "markdown",
   "id": "94b6f240",
   "metadata": {},
   "source": [
    "There are several amino acids contact energy functions/networks. Only two have been used in quantum applications.\n",
    "1. The hydrophobic-polar model, which considers only two classes of amino acids\n",
    "2. The Miyazawa–Jernigan model, containing interactions for every pair of residues. \n",
    "\n",
    "Here, we use Miyazawa–Jernigan model for interaction between amino acids."
   ]
  },
  {
   "cell_type": "code",
   "execution_count": 3,
   "id": "93095736",
   "metadata": {},
   "outputs": [],
   "source": [
    "from qiskit_nature.problems.sampling.protein_folding.interactions.random_interaction import RandomInteraction\n",
    "from qiskit_nature.problems.sampling.protein_folding.interactions.miyazawa_jernigan_interaction import MiyazawaJerniganInteraction\n",
    "\n",
    "random = RandomInteraction()\n",
    "miyazawa_jernigan = MiyazawaJerniganInteraction()"
   ]
  },
  {
   "cell_type": "markdown",
   "id": "83ab6afb",
   "metadata": {},
   "source": [
    "## Physical Constraints\n",
    "\n",
    "???"
   ]
  },
  {
   "cell_type": "code",
   "execution_count": 4,
   "id": "e0674302",
   "metadata": {},
   "outputs": [],
   "source": [
    "from qiskit_nature.problems.sampling.protein_folding.penalty_parameters import PenaltyParameters\n",
    "# ????\n",
    "penalty_back = 10\n",
    "penalty_chiral = 10\n",
    "penalty_1 = 10\n",
    "\n",
    "penalty_terms = PenaltyParameters(penalty_chiral, penalty_back, penalty_1)"
   ]
  },
  {
   "cell_type": "markdown",
   "id": "42b33753",
   "metadata": {},
   "source": [
    "## Protein Definition\n",
    "Proteins are consist of one or some peptides. Peptides are consist of amino acids.<br><br>\n",
    "Here, we define a protein that is made of one peptide. "
   ]
  },
  {
   "cell_type": "code",
   "execution_count": 5,
   "id": "3d0bba5c",
   "metadata": {},
   "outputs": [],
   "source": [
    "from qiskit_nature.problems.sampling.protein_folding.peptide.peptide import Peptide\n",
    "protein1 = Peptide(main_chain, side_chains)"
   ]
  },
  {
   "cell_type": "markdown",
   "id": "c81471b2",
   "metadata": {},
   "source": [
    "## Protein Folding Function\n",
    "Now, we can use ProteinFoldingProblem function to solve this problem based on:\n",
    "1. defined peptide\n",
    "2. the interaction (contact map) \n",
    "3. the penalty terms"
   ]
  },
  {
   "cell_type": "code",
   "execution_count": 6,
   "id": "87006efe",
   "metadata": {},
   "outputs": [
    {
     "name": "stdout",
     "output_type": "stream",
     "text": [
      "1613.5895000000003 * IIIIIIIII\n",
      "- 701.802 * ZIIIIIIII\n",
      "- 904.2875 * IZIIIIIII\n",
      "+ 192.5 * IIZIIIIII\n",
      "- 200.0 * ZIZIIIIII\n",
      "+ 7.5 * IZZIIIIII\n",
      "+ 105.0 * IIIZIIIII\n",
      "- 105.0 * ZIIZIIIII\n",
      "+ 95.0 * IIZZIIIII\n",
      "- 100.0 * ZIZZIIIII\n",
      "+ 5.0 * IZZZIIIII\n",
      "- 497.5 * IIIIZIIII\n",
      "+ 195.0 * ZIIIZIIII\n",
      "+ 302.5 * IZIIZIIII\n",
      "- 95.0 * IIZIZIIII\n",
      "+ 100.0 * ZIZIZIIII\n",
      "- 2.5 * IZZIZIIII\n",
      "- 100.0 * IIIIIZIII\n",
      "+ 102.5 * ZIIIIZIII\n",
      "- 2.5 * IZIIIZIII\n",
      "- 95.0 * IIIZIZIII\n",
      "+ 100.0 * ZIIZIZIII\n",
      "- 2.5 * IZIZIZIII\n",
      "- 300.0 * IIIIZZIII\n",
      "+ 97.5 * ZIIIZZIII\n",
      "+ 202.5 * IZIIZZIII\n",
      "- 95.0 * IIZZZZIII\n",
      "+ 100.0 * ZIZZZZIII\n",
      "- 2.5 * IZZZZZIII\n",
      "+ 487.5 * IIIIIIZII\n",
      "- 195.0 * ZIIIIIZII\n",
      "- 295.0 * IZIIIIZII\n",
      "+ 97.5 * IIZIIIZII\n",
      "- 100.0 * ZIZIIIZII\n",
      "+ 2.5 * IZZIIIZII\n",
      "- 195.0 * IIIIZIZII\n",
      "+ 97.5 * ZIIIZIZII\n",
      "+ 100.0 * IZIIZIZII\n",
      "+ 100.0 * IIIIIIIZI\n",
      "- 102.5 * ZIIIIIIZI\n",
      "+ 2.5 * IZIIIIIZI\n",
      "+ 97.5 * IIIZIIIZI\n",
      "- 100.0 * ZIIZIIIZI\n",
      "+ 2.5 * IZIZIIIZI\n",
      "- 195.0 * IIIIIZIZI\n",
      "+ 97.5 * ZIIIIZIZI\n",
      "+ 100.0 * IZIIIZIZI\n",
      "+ 295.0 * IIIIIIZZI\n",
      "- 97.5 * ZIIIIIZZI\n",
      "- 197.5 * IZIIIIZZI\n",
      "+ 97.5 * IIZZIIZZI\n",
      "- 100.0 * ZIZZIIZZI\n",
      "+ 2.5 * IZZZIIZZI\n",
      "- 195.0 * IIIIZZZZI\n",
      "+ 97.5 * ZIIIZZZZI\n",
      "+ 100.0 * IZIIZZZZI\n",
      "+ 195.0 * IIIIIIIIZ\n",
      "+ 5.0 * ZIIIIIIIZ\n",
      "- 200.0 * IZIIIIIIZ\n",
      "- 97.5 * IIIZIIIIZ\n",
      "+ 100.0 * ZIIZIIIIZ\n",
      "- 2.5 * IZIZIIIIZ\n",
      "+ 97.5 * IIZZIIIIZ\n",
      "- 100.0 * ZIZZIIIIZ\n",
      "+ 2.5 * IZZZIIIIZ\n",
      "+ 197.5 * IIIIIZIIZ\n",
      "- 97.5 * ZIIIIZIIZ\n",
      "- 100.0 * IZIIIZIIZ\n",
      "- 197.5 * IIIIZZIIZ\n",
      "+ 97.5 * ZIIIZZIIZ\n",
      "+ 100.0 * IZIIZZIIZ\n",
      "- 192.5 * IIIIIIIZZ\n",
      "+ 97.5 * ZIIIIIIZZ\n",
      "+ 97.5 * IZIIIIIZZ\n",
      "+ 192.5 * IIIIIIZZZ\n",
      "- 97.5 * ZIIIIIZZZ\n",
      "- 97.5 * IZIIIIZZZ\n"
     ]
    }
   ],
   "source": [
    "from qiskit_nature.problems.sampling.protein_folding.protein_folding_problem import ProteinFoldingProblem\n",
    "# solution 1: using Miyazawa-Jernigan Interaction\n",
    "protein_folding_1 = ProteinFoldingProblem(protein1, miyazawa_jernigan, penalty_terms)\n",
    "qubit_operations_1 = protein_folding_1.qubit_op()\n",
    "print(qubit_operations_1)"
   ]
  },
  {
   "cell_type": "markdown",
   "id": "e849558a",
   "metadata": {},
   "source": [
    "The number shows ??? <br>\n",
    "Each string consists of 9 characters (why 9 ???). Each character shows a Pauli gate (I,X,Y,Z) that should apply to the corresponding qubit."
   ]
  },
  {
   "cell_type": "code",
   "execution_count": 7,
   "id": "724eac5c",
   "metadata": {},
   "outputs": [
    {
     "name": "stdout",
     "output_type": "stream",
     "text": [
      "1613.5509360816177 * IIIIIIIII\n",
      "- 701.7826173731131 * ZIIIIIIII\n",
      "- 904.2683187085045 * IZIIIIIII\n",
      "+ 192.5 * IIZIIIIII\n",
      "- 200.0 * ZIZIIIIII\n",
      "+ 7.5 * IZZIIIIII\n",
      "+ 105.0 * IIIZIIIII\n",
      "- 105.0 * ZIIZIIIII\n",
      "+ 95.0 * IIZZIIIII\n",
      "- 100.0 * ZIZZIIIII\n",
      "+ 5.0 * IZZZIIIII\n",
      "- 497.5 * IIIIZIIII\n",
      "+ 195.0 * ZIIIZIIII\n",
      "+ 302.5 * IZIIZIIII\n",
      "- 95.0 * IIZIZIIII\n",
      "+ 100.0 * ZIZIZIIII\n",
      "- 2.5 * IZZIZIIII\n",
      "- 100.0 * IIIIIZIII\n",
      "+ 102.5 * ZIIIIZIII\n",
      "- 2.5 * IZIIIZIII\n",
      "- 95.0 * IIIZIZIII\n",
      "+ 100.0 * ZIIZIZIII\n",
      "- 2.5 * IZIZIZIII\n",
      "- 300.0 * IIIIZZIII\n",
      "+ 97.5 * ZIIIZZIII\n",
      "+ 202.5 * IZIIZZIII\n",
      "- 95.0 * IIZZZZIII\n",
      "+ 100.0 * ZIZZZZIII\n",
      "- 2.5 * IZZZZZIII\n",
      "+ 487.5 * IIIIIIZII\n",
      "- 195.0 * ZIIIIIZII\n",
      "- 295.0 * IZIIIIZII\n",
      "+ 97.5 * IIZIIIZII\n",
      "- 100.0 * ZIZIIIZII\n",
      "+ 2.5 * IZZIIIZII\n",
      "- 195.0 * IIIIZIZII\n",
      "+ 97.5 * ZIIIZIZII\n",
      "+ 100.0 * IZIIZIZII\n",
      "+ 100.0 * IIIIIIIZI\n",
      "- 102.5 * ZIIIIIIZI\n",
      "+ 2.5 * IZIIIIIZI\n",
      "+ 97.5 * IIIZIIIZI\n",
      "- 100.0 * ZIIZIIIZI\n",
      "+ 2.5 * IZIZIIIZI\n",
      "- 195.0 * IIIIIZIZI\n",
      "+ 97.5 * ZIIIIZIZI\n",
      "+ 100.0 * IZIIIZIZI\n",
      "+ 295.0 * IIIIIIZZI\n",
      "- 97.5 * ZIIIIIZZI\n",
      "- 197.5 * IZIIIIZZI\n",
      "+ 97.5 * IIZZIIZZI\n",
      "- 100.0 * ZIZZIIZZI\n",
      "+ 2.5 * IZZZIIZZI\n",
      "- 195.0 * IIIIZZZZI\n",
      "+ 97.5 * ZIIIZZZZI\n",
      "+ 100.0 * IZIIZZZZI\n",
      "+ 195.0 * IIIIIIIIZ\n",
      "+ 5.0 * ZIIIIIIIZ\n",
      "- 200.0 * IZIIIIIIZ\n",
      "- 97.5 * IIIZIIIIZ\n",
      "+ 100.0 * ZIIZIIIIZ\n",
      "- 2.5 * IZIZIIIIZ\n",
      "+ 97.5 * IIZZIIIIZ\n",
      "- 100.0 * ZIZZIIIIZ\n",
      "+ 2.5 * IZZZIIIIZ\n",
      "+ 197.5 * IIIIIZIIZ\n",
      "- 97.5 * ZIIIIZIIZ\n",
      "- 100.0 * IZIIIZIIZ\n",
      "- 197.5 * IIIIZZIIZ\n",
      "+ 97.5 * ZIIIZZIIZ\n",
      "+ 100.0 * IZIIZZIIZ\n",
      "- 192.5 * IIIIIIIZZ\n",
      "+ 97.5 * ZIIIIIIZZ\n",
      "+ 97.5 * IZIIIIIZZ\n",
      "+ 192.5 * IIIIIIZZZ\n",
      "- 97.5 * ZIIIIIZZZ\n",
      "- 97.5 * IZIIIIZZZ\n"
     ]
    }
   ],
   "source": [
    "# solution 2: using Random Interaction\n",
    "protein_folding_2 = ProteinFoldingProblem(protein1, random, penalty_terms)\n",
    "qubit_operations_2 = protein_folding_2.qubit_op()\n",
    "print(qubit_operations_2)"
   ]
  },
  {
   "cell_type": "markdown",
   "id": "6ae51921",
   "metadata": {},
   "source": [
    "## VQE with CVaR expectation\n",
    "\n",
    "\n",
    "The difference of this method with VQE is the expectation value.<br>\n",
    "In this section, we should set the parameters of VQE algorithm such as:\n",
    "1. optimizer\n",
    "2. ansatz\n",
    "3. backend\n",
    "\n",
    "Qiskit supports some classic optimizers such as COBYLA, L_BFGS_B, SPSA, SLSQP. You can see the optimizers in https://qiskit.org/documentation/stubs/qiskit.algorithms.optimizers.html.<br>\n",
    "\n",
    "Here we use COBYLA (why???). You can see The parameters of this optimizer in https://qiskit.org/documentation/stubs/qiskit.algorithms.optimizers.COBYLA.html\n"
   ]
  },
  {
   "cell_type": "code",
   "execution_count": 8,
   "id": "a582b0f8",
   "metadata": {},
   "outputs": [],
   "source": [
    "from qiskit.algorithms.optimizers import COBYLA\n",
    "# set classical optimizer\n",
    "optimizer = COBYLA(maxiter=50)"
   ]
  },
  {
   "cell_type": "markdown",
   "id": "28c93f2c",
   "metadata": {},
   "source": [
    "Ansatz (ansatz circuit) contains of some parameterized gates. There are several ansatz circuits in qiskit such as EfficientSU2, TwoLocal, NLocal, PauliTwoDesign, RealAmplitudes. For more information see https://qiskit.org/documentation/apidoc/circuit_library.html N-local circuits section<br><br>\n",
    "We selected RealAmplitudes (why??). You can see the parameters of this ansatz in https://qiskit.org/documentation/stubs/qiskit.circuit.library.RealAmplitudes.html ."
   ]
  },
  {
   "cell_type": "code",
   "execution_count": 9,
   "id": "264dc782",
   "metadata": {},
   "outputs": [],
   "source": [
    "from qiskit.circuit.library import RealAmplitudes\n",
    "# set variational ansatz\n",
    "ansatz = RealAmplitudes(reps=1)"
   ]
  },
  {
   "cell_type": "markdown",
   "id": "3c2b7c7e",
   "metadata": {},
   "source": [
    "For executing this circut we use simulator from Qiskit. For more information look at https://qiskit.org/documentation/tutorials/simulators/1_aer_provider.html."
   ]
  },
  {
   "cell_type": "code",
   "execution_count": 10,
   "id": "dc9c36f2",
   "metadata": {},
   "outputs": [],
   "source": [
    "from qiskit.utils import QuantumInstance\n",
    "from qiskit import execute, Aer\n",
    "# set the backend\n",
    "backend = \"aer_simulator\"\n",
    "backend = QuantumInstance(\n",
    "    Aer.get_backend(backend),\n",
    "    shots=1000,\n",
    ")"
   ]
  },
  {
   "cell_type": "markdown",
   "id": "5fac4b58",
   "metadata": {},
   "source": [
    "This part is arbitrary. We can use callback function to save the results of each iteration, then we can plot it and see the trend."
   ]
  },
  {
   "cell_type": "code",
   "execution_count": 11,
   "id": "495f5141",
   "metadata": {},
   "outputs": [],
   "source": [
    "counts = []\n",
    "values = []\n",
    "\n",
    "def callback_function(eval_count, parameters, mean, std):\n",
    "    counts.append(eval_count)\n",
    "    values.append(mean)\n"
   ]
  },
  {
   "cell_type": "markdown",
   "id": "13c6c0be",
   "metadata": {},
   "source": [
    "Finally we should set expectation. There are some expectation functions in Qiskit https://qiskit.org/documentation/stubs/qiskit.opflow.expectations.html. <br>\n",
    "Here we choose CVaRExpectation. For more information look at https://qiskit.org/documentation/stubs/qiskit.opflow.expectations.CVaRExpectation.html ."
   ]
  },
  {
   "cell_type": "code",
   "execution_count": 12,
   "id": "442521ed",
   "metadata": {},
   "outputs": [],
   "source": [
    "from qiskit.opflow import PauliExpectation, CVaRExpectation\n",
    "# initialize CVaR_alpha objective with alpha = 0.1\n",
    "cvar_exp = CVaRExpectation(0.1, PauliExpectation())"
   ]
  },
  {
   "cell_type": "markdown",
   "id": "5c9b0787",
   "metadata": {},
   "source": [
    "Now, we can define the VQE based on prepared parameters."
   ]
  },
  {
   "cell_type": "code",
   "execution_count": 13,
   "id": "862f9e7e",
   "metadata": {},
   "outputs": [
    {
     "name": "stderr",
     "output_type": "stream",
     "text": [
      "C:\\Users\\Asus\\AppData\\Roaming\\Python\\Python38\\site-packages\\qiskit\\algorithms\\minimum_eigen_solvers\\vqe.py:567: RuntimeWarning: invalid value encountered in sqrt\n",
      "  estimator_error = np.sqrt(variance / self.quantum_instance.run_config.shots)\n"
     ]
    },
    {
     "name": "stdout",
     "output_type": "stream",
     "text": [
      "{   'aux_operator_eigenvalues': None,\n",
      "    'cost_function_evals': 50,\n",
      "    'eigenstate': {   '000001011': 0.03162277660168379,\n",
      "                      '000100101': 0.13784048752090222,\n",
      "                      '000100111': 0.03162277660168379,\n",
      "                      '000101001': 0.044721359549995794,\n",
      "                      '000101010': 0.03162277660168379,\n",
      "                      '000101011': 0.12649110640673517,\n",
      "                      '000101101': 0.07071067811865475,\n",
      "                      '000110101': 0.07071067811865475,\n",
      "                      '000111001': 0.044721359549995794,\n",
      "                      '000111011': 0.11832159566199232,\n",
      "                      '000111101': 0.07071067811865475,\n",
      "                      '001000101': 0.11401754250991379,\n",
      "                      '001001001': 0.044721359549995794,\n",
      "                      '001001011': 0.11832159566199232,\n",
      "                      '001001101': 0.08366600265340755,\n",
      "                      '001010101': 0.03162277660168379,\n",
      "                      '001011011': 0.03162277660168379,\n",
      "                      '001100011': 0.03162277660168379,\n",
      "                      '001100101': 0.3178049716414141,\n",
      "                      '001100111': 0.044721359549995794,\n",
      "                      '001101001': 0.08944271909999159,\n",
      "                      '001101010': 0.07071067811865475,\n",
      "                      '001101011': 0.28982753492378877,\n",
      "                      '001101101': 0.18708286933869708,\n",
      "                      '001110101': 0.13784048752090222,\n",
      "                      '001111001': 0.08944271909999159,\n",
      "                      '001111010': 0.03162277660168379,\n",
      "                      '001111011': 0.23021728866442676,\n",
      "                      '001111101': 0.10488088481701516,\n",
      "                      '010000011': 0.05477225575051661,\n",
      "                      '010000101': 0.28809720581775866,\n",
      "                      '010001001': 0.06324555320336758,\n",
      "                      '010001010': 0.03162277660168379,\n",
      "                      '010001011': 0.24289915602982237,\n",
      "                      '010001101': 0.130384048104053,\n",
      "                      '010011011': 0.03162277660168379,\n",
      "                      '010100011': 0.07071067811865475,\n",
      "                      '010100101': 0.2966479394838265,\n",
      "                      '010101001': 0.1,\n",
      "                      '010101011': 0.2949576240750525,\n",
      "                      '010101101': 0.15165750888103102,\n",
      "                      '010110101': 0.1224744871391589,\n",
      "                      '010111001': 0.03162277660168379,\n",
      "                      '010111010': 0.05477225575051661,\n",
      "                      '010111011': 0.2073644135332772,\n",
      "                      '010111101': 0.1,\n",
      "                      '011000101': 0.17029386365926402,\n",
      "                      '011001001': 0.03162277660168379,\n",
      "                      '011001010': 0.03162277660168379,\n",
      "                      '011001011': 0.13784048752090222,\n",
      "                      '011001101': 0.07745966692414834,\n",
      "                      '011011001': 0.03162277660168379,\n",
      "                      '011100011': 0.03162277660168379,\n",
      "                      '011100101': 0.08366600265340755,\n",
      "                      '011100111': 0.03162277660168379,\n",
      "                      '011101001': 0.03162277660168379,\n",
      "                      '011101011': 0.08944271909999159,\n",
      "                      '011101101': 0.044721359549995794,\n",
      "                      '011111011': 0.05477225575051661,\n",
      "                      '100101001': 0.044721359549995794,\n",
      "                      '100101011': 0.05477225575051661,\n",
      "                      '100101101': 0.03162277660168379,\n",
      "                      '100110101': 0.03162277660168379,\n",
      "                      '100111010': 0.03162277660168379,\n",
      "                      '101101011': 0.03162277660168379,\n",
      "                      '101111011': 0.03162277660168379,\n",
      "                      '110000101': 0.044721359549995794,\n",
      "                      '110001011': 0.05477225575051661,\n",
      "                      '110100101': 0.044721359549995794,\n",
      "                      '110101011': 0.05477225575051661,\n",
      "                      '111000101': 0.03162277660168379,\n",
      "                      '111001011': 0.044721359549995794,\n",
      "                      '111100101': 0.07071067811865475,\n",
      "                      '111101010': 0.03162277660168379,\n",
      "                      '111101011': 0.03162277660168379},\n",
      "    'eigenvalue': (-1.4249999999997274+0j),\n",
      "    'optimal_parameters': {   ParameterVectorElement(θ[9]): 0.16577684998462217,\n",
      "                              ParameterVectorElement(θ[10]): 2.054544695383846,\n",
      "                              ParameterVectorElement(θ[5]): -0.5666526465650711,\n",
      "                              ParameterVectorElement(θ[8]): 2.843389475334268,\n",
      "                              ParameterVectorElement(θ[2]): 2.1406807982301976,\n",
      "                              ParameterVectorElement(θ[6]): -1.4987871889983115,\n",
      "                              ParameterVectorElement(θ[0]): -2.9261087152629526,\n",
      "                              ParameterVectorElement(θ[1]): -1.3908334435972673,\n",
      "                              ParameterVectorElement(θ[3]): -0.2707057354300369,\n",
      "                              ParameterVectorElement(θ[7]): 0.3345856095669249,\n",
      "                              ParameterVectorElement(θ[4]): 3.5517478455059273,\n",
      "                              ParameterVectorElement(θ[12]): -1.1991474539007538,\n",
      "                              ParameterVectorElement(θ[16]): 2.1043766615884945,\n",
      "                              ParameterVectorElement(θ[14]): -0.8557924837428347,\n",
      "                              ParameterVectorElement(θ[17]): -2.972221961135785,\n",
      "                              ParameterVectorElement(θ[13]): 2.273140084945887,\n",
      "                              ParameterVectorElement(θ[15]): 0.3335029964592148,\n",
      "                              ParameterVectorElement(θ[11]): 1.4397388313497996},\n",
      "    'optimal_point': array([-2.92610872,  2.0545447 ,  1.43973883, -1.19914745,  2.27314008,\n",
      "       -0.85579248,  0.333503  ,  2.10437666, -2.97222196, -1.39083344,\n",
      "        2.1406808 , -0.27070574,  3.55174785, -0.56665265, -1.49878719,\n",
      "        0.33458561,  2.84338948,  0.16577685]),\n",
      "    'optimal_value': -1.4249999999997274,\n",
      "    'optimizer_evals': None,\n",
      "    'optimizer_time': 88.04247093200684}\n"
     ]
    }
   ],
   "source": [
    "from qiskit.algorithms import VQE\n",
    "# initialize VQE using CVaR\n",
    "vqe = VQE(\n",
    "    expectation=cvar_exp,\n",
    "    optimizer=optimizer,\n",
    "    ansatz=ansatz,\n",
    "    quantum_instance=backend,\n",
    "    callback=callback_function,\n",
    ")\n",
    "\n",
    "result = vqe.compute_minimum_eigenvalue(qubit_operations_1)\n",
    "print(result)"
   ]
  },
  {
   "cell_type": "markdown",
   "id": "2d97cc4a",
   "metadata": {},
   "source": [
    "Now we can plot the results based on what we saved by callback functions :)"
   ]
  },
  {
   "cell_type": "code",
   "execution_count": 14,
   "id": "7f84f215",
   "metadata": {},
   "outputs": [
    {
     "data": {
      "image/png": "[encoded data removed]",
      "text/plain": [
       "<Figure size 432x288 with 1 Axes>"
      ]
     },
     "metadata": {
      "needs_background": "light"
     },
     "output_type": "display_data"
    }
   ],
   "source": [
    "import matplotlib.pyplot as plt\n",
    "\n",
    "figure = plt.figure()\n",
    "\n",
    "plt.plot(counts, values)\n",
    "plt.ylabel(\"Conformation Energy\")\n",
    "plt.xlabel(\"VQE Iterations\")\n",
    "\n",
    "plt.show()"
   ]
  },
  {
   "cell_type": "markdown",
   "id": "ba7bd8fa",
   "metadata": {},
   "source": [
    "As we can see, the amount of energy in the 50th iteration has converged, so the process is interrupted and no longer continues.\n",
    "If you execute this program for several times, You will get different plot."
   ]
  },
  {
   "cell_type": "code",
   "execution_count": null,
   "id": "fdc50a75",
   "metadata": {},
   "outputs": [],
   "source": []
  }
 ],
 "metadata": {
  "kernelspec": {
   "display_name": "Python 3 (ipykernel)",
   "language": "python",
   "name": "python3"
  },
  "language_info": {
   "codemirror_mode": {
    "name": "ipython",
    "version": 3
   },
   "file_extension": ".py",
   "mimetype": "text/x-python",
   "name": "python",
   "nbconvert_exporter": "python",
   "pygments_lexer": "ipython3",
   "version": "3.8.11"
  }
 },
 "nbformat": 4,
 "nbformat_minor": 5
}
