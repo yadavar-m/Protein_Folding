{
 "cells": [
  {
   "cell_type": "markdown",
   "id": "c99189e7",
   "metadata": {},
   "source": [
    "# Protein Folding Problem"
   ]
  },
  {
   "cell_type": "markdown",
   "id": "667a305f",
   "metadata": {},
   "source": [
    "## content\n",
    "\n",
    "[i.ProteinFoldingProblem function](#i.ProteinFoldingProblemfunction)<br>\n",
    "&nbsp; [1.ProteinDefining](#1.ProteinDefining)<br>\n",
    "&nbsp; [2.InteractionMethod](#2.InteractionMethod)<br>\n",
    "&nbsp; [3.PenaltyTerms](#3.PenaltyTerms)<br>\n",
    "[ii.ConvertToQubits](#ii.ConvertToQubits)<br>\n",
    "[iii.VQEwithCVaRexpectation](#iii.VQEwithCVaRexpectation)<br>\n",
    "&nbsp; [1.ansatz](#1.ansatz)<br>\n",
    "&nbsp; [2.optimizer](#2.optimizer)<br>\n",
    "&nbsp; [3.backend](#3.backend)<br>\n",
    "&nbsp; [4.expectation](#4.expectation)<br>\n",
    "[iv.AnalysingTheResults](#iv.AnalysingTheResults)<br>"
   ]
  },
  {
   "cell_type": "code",
   "execution_count": 1,
   "id": "fb3b48c6",
   "metadata": {},
   "outputs": [],
   "source": [
    "from qiskit_nature.problems.sampling.protein_folding.peptide.peptide import Peptide\n",
    "from qiskit_nature.problems.sampling.protein_folding.interactions.miyazawa_jernigan_interaction import MiyazawaJerniganInteraction\n",
    "from qiskit_nature.problems.sampling.protein_folding.penalty_parameters import PenaltyParameters\n",
    "from qiskit_nature.problems.sampling.protein_folding.protein_folding_problem import ProteinFoldingProblem\n",
    "from qiskit.circuit.library import RealAmplitudes\n",
    "from qiskit.algorithms.optimizers import COBYLA\n",
    "from qiskit.utils import QuantumInstance\n",
    "from qiskit import execute, Aer\n",
    "from qiskit.opflow import PauliExpectation, CVaRExpectation\n",
    "from qiskit.algorithms import VQE\n",
    "from pathlib import Path\n",
    "import os\n",
    "import numpy as np\n",
    "from typing import Tuple, List"
   ]
  },
  {
   "cell_type": "markdown",
   "id": "e0160204",
   "metadata": {},
   "source": [
    "##  i.ProteinFoldingProblemfunction"
   ]
  },
  {
   "cell_type": "markdown",
   "id": "5b8f52c3",
   "metadata": {},
   "source": [
    "We can define a protein folding function to solve this problem based on:\n",
    "1. Definition of a protein\n",
    "2. The interaction method\n",
    "3. Penalty terms\n"
   ]
  },
  {
   "cell_type": "markdown",
   "id": "f64e0a30",
   "metadata": {},
   "source": [
    "### 1.ProteinDefining"
   ]
  },
  {
   "cell_type": "code",
   "execution_count": 2,
   "id": "f7b7a6b4",
   "metadata": {},
   "outputs": [],
   "source": [
    "#main_chain\n",
    "residue_sequence = \"APRLRFY\" #Alanine,Proline,Arginine,Leucine,Arginine,Phenylalanine,Tyrosine / 7 amino acids"
   ]
  },
  {
   "cell_type": "code",
   "execution_count": 3,
   "id": "9b3cb1dc",
   "metadata": {},
   "outputs": [],
   "source": [
    "def validate_residue_sequence(residue_sequence: str):\n",
    "    for residue_symbol in residue_sequence:\n",
    "        if validate_residue_symbol(residue_symbol) == False:\n",
    "            return False\n",
    "    return True\n",
    "\n",
    "\n",
    "def validate_residue_symbol(residue_symbol: str) -> bool:\n",
    "    valid_residues = [\n",
    "        \"A\",  # Alanine\n",
    "        \"C\",  # Cysteine\n",
    "        \"D\",  # Aspartic acid\n",
    "        \"E\",  # Glutamic acid\n",
    "        \"F\",  # Phenylalanine\n",
    "        \"G\",  # Glycine\n",
    "        \"H\",  # Histidine\n",
    "        \"I\",  # Isoleucine\n",
    "        \"K\",  # Lysine\n",
    "        \"L\",  # Leucine\n",
    "        \"M\",  # Methionine\n",
    "        \"N\",  # Asparagine\n",
    "        \"P\",  # Proline\n",
    "        \"Q\",  # Glutamine\n",
    "        \"R\",  # Arginine\n",
    "        \"S\",  # Serine\n",
    "        \"T\",  # Threonine\n",
    "        \"V\",  # Valine\n",
    "        \"W\",  # Tryptophan\n",
    "        \"Y\",  # Tyrosine\n",
    "    ]\n",
    "    if residue_symbol != \"\" and residue_symbol not in valid_residues:\n",
    "        return False\n",
    "    return True\n"
   ]
  },
  {
   "cell_type": "code",
   "execution_count": 4,
   "id": "106db0ff",
   "metadata": {},
   "outputs": [
    {
     "data": {
      "text/plain": [
       "True"
      ]
     },
     "execution_count": 4,
     "metadata": {},
     "output_type": "execute_result"
    }
   ],
   "source": [
    "validate_residue_sequence(residue_sequence)"
   ]
  },
  {
   "cell_type": "markdown",
   "id": "7df16bd6",
   "metadata": {},
   "source": [
    "### 2.InteractionMethod"
   ]
  },
  {
   "cell_type": "code",
   "execution_count": 5,
   "id": "7870da16",
   "metadata": {},
   "outputs": [],
   "source": [
    "def construct_resource_path():\n",
    "    current_path = Path().parent.absolute()\n",
    "    resource_relative_path = Path(\"resources\")\n",
    "    current_path = os.path.join(current_path, resource_relative_path)\n",
    "    filename = \"mj_matrix.txt\"\n",
    "    path = os.path.normpath(os.path.join(current_path, filename))\n",
    "    return path\n",
    "\n",
    "def parse_energy_matrix(matrix: np.ndarray) -> np.ndarray:\n",
    "    energy_matrix = np.zeros((np.shape(matrix)[0], np.shape(matrix)[1]))\n",
    "    for row in range(1, np.shape(matrix)[0]):\n",
    "        for col in range(row - 1, np.shape(matrix)[1]):\n",
    "            energy_matrix[row, col] = float(matrix[row, col])\n",
    "    energy_matrix = energy_matrix[\n",
    "        1:,\n",
    "    ]\n",
    "    return energy_matrix\n",
    "\n",
    "def load_energy_matrix_file() -> Tuple[np.ndarray, List[str]]:\n",
    "    path = construct_resource_path()\n",
    "    matrix = np.loadtxt(fname=path, dtype=str)\n",
    "    energy_matrix = parse_energy_matrix(matrix)\n",
    "    symbols = list(matrix[0, :])\n",
    "    return energy_matrix, symbols\n",
    "\n",
    "def calculate_energy_matrix(residue_sequence: str) -> np.ndarray:\n",
    "        chain_len = len(residue_sequence)\n",
    "        validate_residue_sequence(residue_sequence) \n",
    "        mj_interaction, list_aa = load_energy_matrix_file() \n",
    "        pair_energies = np.zeros((chain_len + 1, 2, chain_len + 1, 2))\n",
    "        for i in range(1, chain_len + 1):\n",
    "            for j in range(i + 1, chain_len + 1):\n",
    "                aa_i = list_aa.index(residue_sequence[i - 1])\n",
    "                aa_j = list_aa.index(residue_sequence[j - 1])\n",
    "                pair_energies[i, 0, j, 0] = mj_interaction[min(aa_i, aa_j), max(aa_i, aa_j)]\n",
    "        return pair_energies"
   ]
  },
  {
   "cell_type": "code",
   "execution_count": 6,
   "id": "7caa3791",
   "metadata": {},
   "outputs": [
    {
     "name": "stdout",
     "output_type": "stream",
     "text": [
      "C:\\Users\\Asus\\Documents\\QCourse570\\resources\\mj_matrix.txt\n"
     ]
    }
   ],
   "source": [
    "### Path\n",
    "print(construct_resource_path())"
   ]
  },
  {
   "cell_type": "code",
   "execution_count": 7,
   "id": "3a6d3cd2",
   "metadata": {},
   "outputs": [
    {
     "name": "stdout",
     "output_type": "stream",
     "text": [
      "['C', 'M', 'F', 'I', 'L', 'V', 'W', 'Y', 'A', 'G', 'T', 'S', 'N', 'Q', 'D', 'E', 'H', 'R', 'K', 'P']\n"
     ]
    }
   ],
   "source": [
    "### MJ interaction table\n",
    "energy_matrix, symbols = load_energy_matrix_file()\n",
    "print(symbols)"
   ]
  },
  {
   "cell_type": "code",
   "execution_count": 8,
   "id": "9010dc82",
   "metadata": {},
   "outputs": [
    {
     "name": "stdout",
     "output_type": "stream",
     "text": [
      "[[-5.44 -4.99 -5.8  -5.5  -5.83 -4.96 -4.95 -4.16 -3.57 -3.16 -3.11 -2.86\n",
      "  -2.59 -2.85 -2.41 -2.27 -3.6  -2.57 -1.95 -3.07]\n",
      " [ 0.   -5.46 -6.56 -6.02 -6.41 -5.32 -5.55 -4.91 -3.94 -3.39 -3.51 -3.03\n",
      "  -2.95 -3.3  -2.57 -2.89 -3.98 -3.12 -2.48 -3.45]\n",
      " [ 0.    0.   -7.26 -6.84 -7.28 -6.29 -6.16 -5.66 -4.81 -4.13 -4.28 -4.02\n",
      "  -3.75 -4.1  -3.48 -3.56 -4.77 -3.98 -3.36 -4.25]\n",
      " [ 0.    0.    0.   -6.54 -7.04 -6.05 -5.78 -5.25 -4.58 -3.78 -4.03 -3.52\n",
      "  -3.24 -3.67 -3.17 -3.27 -4.14 -3.63 -3.01 -3.76]\n",
      " [ 0.    0.    0.    0.   -7.37 -6.48 -6.14 -5.67 -4.91 -4.16 -4.34 -3.92\n",
      "  -3.74 -4.04 -3.4  -3.59 -4.54 -4.03 -3.37 -4.2 ]\n",
      " [ 0.    0.    0.    0.    0.   -5.52 -5.18 -4.62 -4.04 -3.38 -3.46 -3.05\n",
      "  -2.83 -3.07 -2.48 -2.67 -3.58 -3.07 -2.49 -3.32]\n",
      " [ 0.    0.    0.    0.    0.    0.   -5.06 -4.66 -3.82 -3.42 -3.22 -2.99\n",
      "  -3.07 -3.11 -2.84 -2.99 -3.98 -3.41 -2.69 -3.73]\n",
      " [ 0.    0.    0.    0.    0.    0.    0.   -4.17 -3.36 -3.01 -3.01 -2.78\n",
      "  -2.76 -2.97 -2.76 -2.79 -3.52 -3.16 -2.6  -3.19]\n",
      " [ 0.    0.    0.    0.    0.    0.    0.    0.   -2.72 -2.31 -2.32 -2.01\n",
      "  -1.84 -1.89 -1.7  -1.51 -2.41 -1.83 -1.31 -2.03]\n",
      " [ 0.    0.    0.    0.    0.    0.    0.    0.    0.   -2.24 -2.08 -1.82\n",
      "  -1.74 -1.66 -1.59 -1.22 -2.15 -1.72 -1.15 -1.87]\n",
      " [ 0.    0.    0.    0.    0.    0.    0.    0.    0.    0.   -2.12 -1.96\n",
      "  -1.88 -1.9  -1.8  -1.74 -2.42 -1.9  -1.31 -1.9 ]\n",
      " [ 0.    0.    0.    0.    0.    0.    0.    0.    0.    0.    0.   -1.67\n",
      "  -1.58 -1.49 -1.63 -1.48 -2.11 -1.62 -1.05 -1.57]\n",
      " [ 0.    0.    0.    0.    0.    0.    0.    0.    0.    0.    0.    0.\n",
      "  -1.68 -1.71 -1.68 -1.51 -2.08 -1.64 -1.21 -1.53]\n",
      " [ 0.    0.    0.    0.    0.    0.    0.    0.    0.    0.    0.    0.\n",
      "   0.   -1.54 -1.46 -1.42 -1.98 -1.8  -1.29 -1.73]\n",
      " [ 0.    0.    0.    0.    0.    0.    0.    0.    0.    0.    0.    0.\n",
      "   0.    0.   -1.21 -1.02 -2.32 -2.29 -1.68 -1.33]\n",
      " [ 0.    0.    0.    0.    0.    0.    0.    0.    0.    0.    0.    0.\n",
      "   0.    0.    0.   -0.91 -2.15 -2.27 -1.8  -1.26]\n",
      " [ 0.    0.    0.    0.    0.    0.    0.    0.    0.    0.    0.    0.\n",
      "   0.    0.    0.    0.   -3.05 -2.16 -1.35 -2.25]\n",
      " [ 0.    0.    0.    0.    0.    0.    0.    0.    0.    0.    0.    0.\n",
      "   0.    0.    0.    0.    0.   -1.55 -0.59 -1.7 ]\n",
      " [ 0.    0.    0.    0.    0.    0.    0.    0.    0.    0.    0.    0.\n",
      "   0.    0.    0.    0.    0.    0.   -0.12 -0.97]\n",
      " [ 0.    0.    0.    0.    0.    0.    0.    0.    0.    0.    0.    0.\n",
      "   0.    0.    0.    0.    0.    0.    0.   -1.75]]\n"
     ]
    }
   ],
   "source": [
    "print(energy_matrix)"
   ]
  },
  {
   "cell_type": "code",
   "execution_count": 9,
   "id": "18c02a22",
   "metadata": {
    "scrolled": false
   },
   "outputs": [
    {
     "name": "stdout",
     "output_type": "stream",
     "text": [
      "[[[[ 0.    0.  ]\n",
      "   [ 0.    0.  ]\n",
      "   [ 0.    0.  ]\n",
      "   [ 0.    0.  ]\n",
      "   [ 0.    0.  ]\n",
      "   [ 0.    0.  ]\n",
      "   [ 0.    0.  ]\n",
      "   [ 0.    0.  ]]\n",
      "\n",
      "  [[ 0.    0.  ]\n",
      "   [ 0.    0.  ]\n",
      "   [ 0.    0.  ]\n",
      "   [ 0.    0.  ]\n",
      "   [ 0.    0.  ]\n",
      "   [ 0.    0.  ]\n",
      "   [ 0.    0.  ]\n",
      "   [ 0.    0.  ]]]\n",
      "\n",
      "\n",
      " [[[ 0.    0.  ]\n",
      "   [ 0.    0.  ]\n",
      "   [-2.03  0.  ]\n",
      "   [-1.83  0.  ]\n",
      "   [-4.91  0.  ]\n",
      "   [-1.83  0.  ]\n",
      "   [-4.81  0.  ]\n",
      "   [-3.36  0.  ]]\n",
      "\n",
      "  [[ 0.    0.  ]\n",
      "   [ 0.    0.  ]\n",
      "   [ 0.    0.  ]\n",
      "   [ 0.    0.  ]\n",
      "   [ 0.    0.  ]\n",
      "   [ 0.    0.  ]\n",
      "   [ 0.    0.  ]\n",
      "   [ 0.    0.  ]]]\n",
      "\n",
      "\n",
      " [[[ 0.    0.  ]\n",
      "   [ 0.    0.  ]\n",
      "   [ 0.    0.  ]\n",
      "   [-1.7   0.  ]\n",
      "   [-4.2   0.  ]\n",
      "   [-1.7   0.  ]\n",
      "   [-4.25  0.  ]\n",
      "   [-3.19  0.  ]]\n",
      "\n",
      "  [[ 0.    0.  ]\n",
      "   [ 0.    0.  ]\n",
      "   [ 0.    0.  ]\n",
      "   [ 0.    0.  ]\n",
      "   [ 0.    0.  ]\n",
      "   [ 0.    0.  ]\n",
      "   [ 0.    0.  ]\n",
      "   [ 0.    0.  ]]]\n",
      "\n",
      "\n",
      " [[[ 0.    0.  ]\n",
      "   [ 0.    0.  ]\n",
      "   [ 0.    0.  ]\n",
      "   [ 0.    0.  ]\n",
      "   [-4.03  0.  ]\n",
      "   [-1.55  0.  ]\n",
      "   [-3.98  0.  ]\n",
      "   [-3.16  0.  ]]\n",
      "\n",
      "  [[ 0.    0.  ]\n",
      "   [ 0.    0.  ]\n",
      "   [ 0.    0.  ]\n",
      "   [ 0.    0.  ]\n",
      "   [ 0.    0.  ]\n",
      "   [ 0.    0.  ]\n",
      "   [ 0.    0.  ]\n",
      "   [ 0.    0.  ]]]\n",
      "\n",
      "\n",
      " [[[ 0.    0.  ]\n",
      "   [ 0.    0.  ]\n",
      "   [ 0.    0.  ]\n",
      "   [ 0.    0.  ]\n",
      "   [ 0.    0.  ]\n",
      "   [-4.03  0.  ]\n",
      "   [-7.28  0.  ]\n",
      "   [-5.67  0.  ]]\n",
      "\n",
      "  [[ 0.    0.  ]\n",
      "   [ 0.    0.  ]\n",
      "   [ 0.    0.  ]\n",
      "   [ 0.    0.  ]\n",
      "   [ 0.    0.  ]\n",
      "   [ 0.    0.  ]\n",
      "   [ 0.    0.  ]\n",
      "   [ 0.    0.  ]]]\n",
      "\n",
      "\n",
      " [[[ 0.    0.  ]\n",
      "   [ 0.    0.  ]\n",
      "   [ 0.    0.  ]\n",
      "   [ 0.    0.  ]\n",
      "   [ 0.    0.  ]\n",
      "   [ 0.    0.  ]\n",
      "   [-3.98  0.  ]\n",
      "   [-3.16  0.  ]]\n",
      "\n",
      "  [[ 0.    0.  ]\n",
      "   [ 0.    0.  ]\n",
      "   [ 0.    0.  ]\n",
      "   [ 0.    0.  ]\n",
      "   [ 0.    0.  ]\n",
      "   [ 0.    0.  ]\n",
      "   [ 0.    0.  ]\n",
      "   [ 0.    0.  ]]]\n",
      "\n",
      "\n",
      " [[[ 0.    0.  ]\n",
      "   [ 0.    0.  ]\n",
      "   [ 0.    0.  ]\n",
      "   [ 0.    0.  ]\n",
      "   [ 0.    0.  ]\n",
      "   [ 0.    0.  ]\n",
      "   [ 0.    0.  ]\n",
      "   [-5.66  0.  ]]\n",
      "\n",
      "  [[ 0.    0.  ]\n",
      "   [ 0.    0.  ]\n",
      "   [ 0.    0.  ]\n",
      "   [ 0.    0.  ]\n",
      "   [ 0.    0.  ]\n",
      "   [ 0.    0.  ]\n",
      "   [ 0.    0.  ]\n",
      "   [ 0.    0.  ]]]\n",
      "\n",
      "\n",
      " [[[ 0.    0.  ]\n",
      "   [ 0.    0.  ]\n",
      "   [ 0.    0.  ]\n",
      "   [ 0.    0.  ]\n",
      "   [ 0.    0.  ]\n",
      "   [ 0.    0.  ]\n",
      "   [ 0.    0.  ]\n",
      "   [ 0.    0.  ]]\n",
      "\n",
      "  [[ 0.    0.  ]\n",
      "   [ 0.    0.  ]\n",
      "   [ 0.    0.  ]\n",
      "   [ 0.    0.  ]\n",
      "   [ 0.    0.  ]\n",
      "   [ 0.    0.  ]\n",
      "   [ 0.    0.  ]\n",
      "   [ 0.    0.  ]]]]\n"
     ]
    }
   ],
   "source": [
    "### Calculating energy for the special peptide\n",
    "miyazawa_jernigan=calculate_energy_matrix(residue_sequence)\n",
    "print(miyazawa_jernigan)"
   ]
  },
  {
   "cell_type": "markdown",
   "id": "5a7971f6",
   "metadata": {},
   "source": [
    "### 3.PenaltyTerms"
   ]
  },
  {
   "cell_type": "code",
   "execution_count": 10,
   "id": "5a434190",
   "metadata": {},
   "outputs": [],
   "source": [
    "penalty_chiral = 10.0 #float\n",
    "penalty_back = 10.0 #float\n",
    "penalty_1 = 10.0 #float"
   ]
  },
  {
   "cell_type": "markdown",
   "id": "0e3a97f4",
   "metadata": {},
   "source": [
    "## ii.ConvertToQubits"
   ]
  },
  {
   "cell_type": "code",
   "execution_count": null,
   "id": "bc3dfbf9",
   "metadata": {},
   "outputs": [],
   "source": [
    "### using ProteinFoldingProblem Function\n",
    "protein_folding_1 = ProteinFoldingProblem(protein1, miyazawa_jernigan, penalty_terms)\n",
    "qubit_operations_1 = protein_folding_1.qubit_op()\n",
    "\n",
    "###\n",
    "#print(qubit_operations_1)\n",
    "print(qubit_operations_1[0:5])"
   ]
  },
  {
   "cell_type": "markdown",
   "id": "6ae51921",
   "metadata": {},
   "source": [
    "## iii.VQEwithCVaRexpectation\n",
    "\n",
    "We can use VQE algorithm to solve the problem. First, we should define these parts:\n",
    "\n",
    "1. ansatz\n",
    "2. optimizer\n",
    "3. backend"
   ]
  },
  {
   "cell_type": "markdown",
   "id": "e9435163",
   "metadata": {},
   "source": [
    "### 1.ansatz"
   ]
  },
  {
   "cell_type": "code",
   "execution_count": null,
   "id": "57ee44e7",
   "metadata": {},
   "outputs": [],
   "source": [
    "### 1. ansatz\n",
    "ansatz = RealAmplitudes(reps=1)"
   ]
  },
  {
   "cell_type": "code",
   "execution_count": null,
   "id": "239a3eeb",
   "metadata": {},
   "outputs": [],
   "source": [
    "### ???"
   ]
  },
  {
   "cell_type": "markdown",
   "id": "63494d8c",
   "metadata": {},
   "source": [
    "### 2.optimizer"
   ]
  },
  {
   "cell_type": "code",
   "execution_count": null,
   "id": "ec4a75d8",
   "metadata": {},
   "outputs": [],
   "source": [
    "### 2. optimizer\n",
    "optimizer = COBYLA(maxiter=50)"
   ]
  },
  {
   "cell_type": "code",
   "execution_count": null,
   "id": "85a1eeb5",
   "metadata": {},
   "outputs": [],
   "source": [
    "### ???"
   ]
  },
  {
   "cell_type": "markdown",
   "id": "24ee5153",
   "metadata": {},
   "source": [
    "### 3.backend"
   ]
  },
  {
   "cell_type": "code",
   "execution_count": null,
   "id": "915aa9f8",
   "metadata": {},
   "outputs": [],
   "source": [
    "### 3. backend\n",
    "backend = \"aer_simulator\"\n",
    "backend = QuantumInstance(\n",
    "    Aer.get_backend(backend),\n",
    "    shots=1000,\n",
    ")\n",
    "\n",
    "### callback function\n",
    "counts = []\n",
    "values = []\n",
    "\n",
    "def callback_function(eval_count, parameters, mean, std):\n",
    "    counts.append(eval_count)\n",
    "    values.append(mean)\n",
    "    "
   ]
  },
  {
   "cell_type": "markdown",
   "id": "ec53ce1c",
   "metadata": {},
   "source": [
    "### 4.expectation"
   ]
  },
  {
   "cell_type": "code",
   "execution_count": null,
   "id": "3b9bc864",
   "metadata": {},
   "outputs": [],
   "source": [
    "### expectation\n",
    "cvar_exp = CVaRExpectation(0.1, PauliExpectation())\n"
   ]
  },
  {
   "cell_type": "code",
   "execution_count": null,
   "id": "830a3cf1",
   "metadata": {},
   "outputs": [],
   "source": [
    "### ???"
   ]
  },
  {
   "cell_type": "code",
   "execution_count": null,
   "id": "f5b9c75b",
   "metadata": {},
   "outputs": [],
   "source": [
    "### VQE using CVaR\n",
    "vqe = VQE(\n",
    "    expectation=cvar_exp,\n",
    "    optimizer=optimizer,\n",
    "    ansatz=ansatz,\n",
    "    quantum_instance=backend,\n",
    "    callback=callback_function,\n",
    ")"
   ]
  },
  {
   "cell_type": "code",
   "execution_count": null,
   "id": "b7aace5e",
   "metadata": {},
   "outputs": [],
   "source": [
    "### ???"
   ]
  },
  {
   "cell_type": "markdown",
   "id": "3b81ebf2",
   "metadata": {},
   "source": [
    "# iv.AnalysingTheResults"
   ]
  },
  {
   "cell_type": "code",
   "execution_count": null,
   "id": "46995136",
   "metadata": {},
   "outputs": [],
   "source": [
    "result = vqe.compute_minimum_eigenvalue(qubit_operations_1)\n",
    "print(result)"
   ]
  },
  {
   "cell_type": "markdown",
   "id": "2d97cc4a",
   "metadata": {},
   "source": [
    "### Plot the results"
   ]
  },
  {
   "cell_type": "code",
   "execution_count": null,
   "id": "7f84f215",
   "metadata": {},
   "outputs": [],
   "source": [
    "import matplotlib.pyplot as plt\n",
    "\n",
    "figure = plt.figure()\n",
    "\n",
    "plt.plot(counts, values)\n",
    "plt.ylabel(\"Conformation Energy\")\n",
    "plt.xlabel(\"VQE Iterations\")\n",
    "\n",
    "plt.show()"
   ]
  },
  {
   "cell_type": "code",
   "execution_count": null,
   "id": "fdc50a75",
   "metadata": {},
   "outputs": [],
   "source": []
  }
 ],
 "metadata": {
  "kernelspec": {
   "display_name": "Python 3 (ipykernel)",
   "language": "python",
   "name": "python3"
  },
  "language_info": {
   "codemirror_mode": {
    "name": "ipython",
    "version": 3
   },
   "file_extension": ".py",
   "mimetype": "text/x-python",
   "name": "python",
   "nbconvert_exporter": "python",
   "pygments_lexer": "ipython3",
   "version": "3.8.11"
  }
 },
 "nbformat": 4,
 "nbformat_minor": 5
}
